{
  "nbformat": 4,
  "nbformat_minor": 0,
  "metadata": {
    "colab": {
      "name": "Lunar_Lander_Supervised.ipynb",
      "version": "0.3.2",
      "provenance": []
    },
    "language_info": {
      "codemirror_mode": {
        "name": "ipython",
        "version": 3
      },
      "file_extension": ".py",
      "mimetype": "text/x-python",
      "name": "python",
      "nbconvert_exporter": "python",
      "pygments_lexer": "ipython3",
      "version": "3.6.8"
    },
    "kernelspec": {
      "display_name": "Python 3",
      "language": "python",
      "name": "python3"
    }
  },
  "cells": [
    {
      "cell_type": "code",
      "metadata": {
        "id": "SceiDe9hSSP7",
        "colab_type": "code",
        "colab": {}
      },
      "source": [
        "#import all the necessary packages\n",
        "import keras\n",
        "from keras.models import Sequential\n",
        "from keras.layers import Dense, Activation, Dropout, Conv2D, MaxPooling2D, Flatten\n",
        "from keras.utils import np_utils\n",
        "from keras import backend as K\n",
        "from keras.utils.np_utils import to_categorical\n",
        "from keras.utils.vis_utils import model_to_dot\n",
        "from keras.optimizers import RMSprop, adam\n",
        "from keras import backend as K\n",
        "from keras.utils import np_utils\n",
        "from keras.callbacks import ModelCheckpoint\n",
        "from keras.preprocessing.image import ImageDataGenerator\n",
        "\n",
        "import sklearn\n",
        "from sklearn.tree import export_graphviz\n",
        "from sklearn import metrics\n",
        "from sklearn.model_selection import train_test_split\n",
        "from sklearn import preprocessing \n",
        "from sklearn.utils import shuffle\n",
        "from sklearn.model_selection import StratifiedKFold\n",
        "from imblearn.under_sampling import RandomUnderSampler\n",
        "\n",
        "from IPython.display import SVG\n",
        "\n",
        "import csv\n",
        "import os \n",
        "import cv2\n",
        "import random\n",
        "import numpy as np\n",
        "import pandas as pd\n",
        "import matplotlib.pyplot as plt\n",
        "%matplotlib inline \n",
        "import scipy as sp\n",
        "import PIL\n",
        "import seaborn as sea\n",
        "import warnings\n",
        "warnings.filterwarnings(\"ignore\")"
      ],
      "execution_count": 0,
      "outputs": []
    },
    {
      "cell_type": "markdown",
      "metadata": {
        "id": "kKzOPcbYSSP_",
        "colab_type": "text"
      },
      "source": [
        "Specify the path name and mention the sampling rate"
      ]
    },
    {
      "cell_type": "code",
      "metadata": {
        "id": "AZ8gQ8RESSQA",
        "colab_type": "code",
        "colab": {}
      },
      "source": [
        "#give the path name of the directory\n",
        "Directory = 'LunarLanderFramesPart1/'\n",
        "#sample the data for faster processing\n",
        "sample_rate  = 0.8\n",
        "#Set number of rows\n",
        "Row = 84;\n",
        "#set number of columns\n",
        "Column = 84;\n",
        "#set Channel\n",
        "Channels = 1;"
      ],
      "execution_count": 0,
      "outputs": []
    },
    {
      "cell_type": "markdown",
      "metadata": {
        "id": "4FvxLujRSSQD",
        "colab_type": "text"
      },
      "source": [
        "Created the filemane from the folder mentioned in the directory variable and applied random sampling to the input data\n"
      ]
    },
    {
      "cell_type": "code",
      "metadata": {
        "id": "HhDAjsHfSSQE",
        "colab_type": "code",
        "colab": {},
        "outputId": "bc54547e-5d5f-4be1-ba1a-ba9cd1e37b20"
      },
      "source": [
        "# generate filenames from the data folder and do sampling\n",
        "filenames = [Directory+i for i in os.listdir(Directory) if not i.startswith('.')] \n",
        "#performing random sampling without replacement\n",
        "filenames = random.sample(filenames, int(len(filenames)*sample_rate))\n",
        "# store the data into array\n",
        "count = len(filenames)\n",
        "print(\"The total number of training data is:\",count)\n",
        "data = np.ndarray((count, Channels, Row, Column), dtype=np.float) "
      ],
      "execution_count": 0,
      "outputs": [
        {
          "output_type": "stream",
          "text": [
            "The total number of training data is: 50936\n"
          ],
          "name": "stdout"
        }
      ]
    },
    {
      "cell_type": "markdown",
      "metadata": {
        "id": "IGcNQ3nXSSQJ",
        "colab_type": "text"
      },
      "source": [
        "iterate through each of the image to perform the following:\n",
        "1. convert the image to grayscale image\n",
        "2. shrinke the image\n",
        "3. normalize the given data"
      ]
    },
    {
      "cell_type": "code",
      "metadata": {
        "id": "zjCw6CRQSSQJ",
        "colab_type": "code",
        "colab": {},
        "outputId": "b819f38a-7575-4c99-f698-564e0e838e63"
      },
      "source": [
        "#Iterate through the filenames to shrink the image and convert the image to gray scale. \n",
        "for i, image_name in enumerate(filenames):\n",
        "    #converting the image into grayscale \n",
        "    image = cv2.imread(image_name, cv2.IMREAD_GRAYSCALE) \n",
        "    #Shrinking the image size\n",
        "    image = cv2.resize(image, (Row, Column), interpolation=cv2.INTER_CUBIC)\n",
        "    data[i] = image  \n",
        "    #normalising the data \n",
        "    data[i] = data[i]/255 \n",
        "    if i%1500 == 0: \n",
        "        print(\"Processed\" , i ,\"records from\" , count )  "
      ],
      "execution_count": 0,
      "outputs": [
        {
          "output_type": "stream",
          "text": [
            "Processed 0 records from 50936\n",
            "Processed 1500 records from 50936\n",
            "Processed 3000 records from 50936\n",
            "Processed 4500 records from 50936\n",
            "Processed 6000 records from 50936\n",
            "Processed 7500 records from 50936\n",
            "Processed 9000 records from 50936\n",
            "Processed 10500 records from 50936\n",
            "Processed 12000 records from 50936\n",
            "Processed 13500 records from 50936\n",
            "Processed 15000 records from 50936\n",
            "Processed 16500 records from 50936\n",
            "Processed 18000 records from 50936\n",
            "Processed 19500 records from 50936\n",
            "Processed 21000 records from 50936\n",
            "Processed 22500 records from 50936\n",
            "Processed 24000 records from 50936\n",
            "Processed 25500 records from 50936\n",
            "Processed 27000 records from 50936\n",
            "Processed 28500 records from 50936\n",
            "Processed 30000 records from 50936\n",
            "Processed 31500 records from 50936\n",
            "Processed 33000 records from 50936\n",
            "Processed 34500 records from 50936\n",
            "Processed 36000 records from 50936\n",
            "Processed 37500 records from 50936\n",
            "Processed 39000 records from 50936\n",
            "Processed 40500 records from 50936\n",
            "Processed 42000 records from 50936\n",
            "Processed 43500 records from 50936\n",
            "Processed 45000 records from 50936\n",
            "Processed 46500 records from 50936\n",
            "Processed 48000 records from 50936\n",
            "Processed 49500 records from 50936\n"
          ],
          "name": "stdout"
        }
      ]
    },
    {
      "cell_type": "markdown",
      "metadata": {
        "id": "r3v4htFSSSQN",
        "colab_type": "text"
      },
      "source": [
        "create the labels from the files name file, to create the label we will consider the 6th letter from the last of the filename (handeled to ignore .jpeg) and convert the labels to binary encoded labels"
      ]
    },
    {
      "cell_type": "code",
      "metadata": {
        "scrolled": true,
        "id": "rxAK149uSSQO",
        "colab_type": "code",
        "colab": {},
        "outputId": "7352b0e6-cfc3-47ab-b3ce-e78e0cffe731"
      },
      "source": [
        "# Extract the lables based on the last character of the filename\n",
        "labels = []\n",
        "for i in filenames:\n",
        "    l = i[-6:-5] \n",
        "    #performing type casting\n",
        "    labels.append(int(l))  \n",
        "    \n",
        "# getting the total number of unique classes\n",
        "total_classes = len(set(labels)) \n",
        "\n",
        "#convert to binary encoded labels\n",
        "labels_wide = keras.utils.to_categorical(labels, total_classes) \n",
        "\n",
        "# To understand the distribution, plot the bar chart\n",
        "sea.countplot(labels) "
      ],
      "execution_count": 0,
      "outputs": [
        {
          "output_type": "execute_result",
          "data": {
            "text/plain": [
              "<matplotlib.axes._subplots.AxesSubplot at 0x11b805320>"
            ]
          },
          "metadata": {
            "tags": []
          },
          "execution_count": 74
        },
        {
          "output_type": "display_data",
          "data": {
            "image/png": "[encoded data removed]",
            "text/plain": [
              "<Figure size 432x288 with 1 Axes>"
            ]
          },
          "metadata": {
            "tags": [],
            "needs_background": "light"
          }
        }
      ]
    },
    {
      "cell_type": "code",
      "metadata": {
        "id": "uXOzf891SSQT",
        "colab_type": "code",
        "colab": {},
        "outputId": "47b5d50a-5b7a-4637-9b89-bfbefc02ce35"
      },
      "source": [
        "for i in range(0,2):\n",
        "  #Returns random integers\n",
        "    img = random.randint(0, len(labels)) \n",
        "    print(labels[img]) \n",
        "    plt.figure(figsize=(5,5))  \n",
        "    plt.imshow(data[img][0], cmap='gray') \n",
        "    plt.show()"
      ],
      "execution_count": 0,
      "outputs": [
        {
          "output_type": "stream",
          "text": [
            "2\n"
          ],
          "name": "stdout"
        },
        {
          "output_type": "display_data",
          "data": {
            "image/png": "[encoded data removed]",
            "text/plain": [
              "<Figure size 360x360 with 1 Axes>"
            ]
          },
          "metadata": {
            "tags": [],
            "needs_background": "light"
          }
        },
        {
          "output_type": "stream",
          "text": [
            "2\n"
          ],
          "name": "stdout"
        },
        {
          "output_type": "display_data",
          "data": {
            "image/png": "[encoded data removed]",
            "text/plain": [
              "<Figure size 360x360 with 1 Axes>"
            ]
          },
          "metadata": {
            "tags": [],
            "needs_background": "light"
          }
        }
      ]
    },
    {
      "cell_type": "markdown",
      "metadata": {
        "id": "GiQm7G3RSSQW",
        "colab_type": "text"
      },
      "source": [
        "Use relu and softmax as the activation function"
      ]
    },
    {
      "cell_type": "code",
      "metadata": {
        "id": "Zubm6Gl8SSQX",
        "colab_type": "code",
        "colab": {},
        "outputId": "1d357b6a-f916-4da5-afae-5b1d31385324"
      },
      "source": [
        "# create model\n",
        "model = Sequential()\n",
        "model.add(Conv2D(32, (3, 3), padding='same', input_shape=(Channels, Row, Column), data_format='channels_first'))  \n",
        "model.add(Activation('relu'))\n",
        "model.add(MaxPooling2D(pool_size=(3, 3))) \n",
        "\n",
        "model.add(Conv2D(64, (3, 3), padding='same'))\n",
        "model.add(MaxPooling2D(pool_size=(3, 3)))\n",
        "model.add(Activation('relu'))\n",
        "\n",
        "model.add(Conv2D(128, (3, 3), padding='same'))\n",
        "model.add(MaxPooling2D(pool_size=(2, 2))) \n",
        "\n",
        "model.add(Flatten()) \n",
        "model.add(Dense(128))\n",
        "model.add(Activation('relu'))\n",
        "                                       \n",
        "model.add(Dropout(0.5))\n",
        "\n",
        "model.add(Dense(total_classes)) \n",
        "model.add(Activation('softmax'))\n",
        "\n",
        "#Compile the model before use\n",
        "model.compile(loss='categorical_crossentropy', \n",
        "              optimizer=adam(lr=1e-3), \n",
        "              metrics=['accuracy']) \n",
        "model.summary()"
      ],
      "execution_count": 0,
      "outputs": [
        {
          "output_type": "stream",
          "text": [
            "_________________________________________________________________\n",
            "Layer (type)                 Output Shape              Param #   \n",
            "=================================================================\n",
            "conv2d_29 (Conv2D)           (None, 32, 84, 84)        320       \n",
            "_________________________________________________________________\n",
            "activation_37 (Activation)   (None, 32, 84, 84)        0         \n",
            "_________________________________________________________________\n",
            "max_pooling2d_29 (MaxPooling (None, 10, 28, 84)        0         \n",
            "_________________________________________________________________\n",
            "conv2d_30 (Conv2D)           (None, 10, 28, 64)        48448     \n",
            "_________________________________________________________________\n",
            "max_pooling2d_30 (MaxPooling (None, 3, 9, 64)          0         \n",
            "_________________________________________________________________\n",
            "activation_38 (Activation)   (None, 3, 9, 64)          0         \n",
            "_________________________________________________________________\n",
            "conv2d_31 (Conv2D)           (None, 3, 9, 128)         73856     \n",
            "_________________________________________________________________\n",
            "max_pooling2d_31 (MaxPooling (None, 1, 4, 128)         0         \n",
            "_________________________________________________________________\n",
            "flatten_10 (Flatten)         (None, 512)               0         \n",
            "_________________________________________________________________\n",
            "dense_19 (Dense)             (None, 128)               65664     \n",
            "_________________________________________________________________\n",
            "activation_39 (Activation)   (None, 128)               0         \n",
            "_________________________________________________________________\n",
            "dropout_12 (Dropout)         (None, 128)               0         \n",
            "_________________________________________________________________\n",
            "dense_20 (Dense)             (None, 4)                 516       \n",
            "_________________________________________________________________\n",
            "activation_40 (Activation)   (None, 4)                 0         \n",
            "=================================================================\n",
            "Total params: 188,804\n",
            "Trainable params: 188,804\n",
            "Non-trainable params: 0\n",
            "_________________________________________________________________\n"
          ],
          "name": "stdout"
        }
      ]
    },
    {
      "cell_type": "code",
      "metadata": {
        "id": "xhVNH1TwSSQb",
        "colab_type": "code",
        "colab": {}
      },
      "source": [
        "seed = 42\n",
        "np.random.seed(42)\n",
        "kfold = StratifiedKFold(n_splits=4, shuffle=True, random_state=seed)\n",
        "cross_validation_scores = []\n",
        "epochs=50"
      ],
      "execution_count": 0,
      "outputs": []
    },
    {
      "cell_type": "code",
      "metadata": {
        "id": "XRk9Hc4USSQe",
        "colab_type": "code",
        "colab": {},
        "outputId": "d4124326-e545-45c8-a982-fc58285cecd9"
      },
      "source": [
        "fold=0\n",
        "for train, test in kfold.split(data, labels):\n",
        "    fold = fold + 1\n",
        "    labels_train=[]\n",
        "    for i in range(len(train)):\n",
        "        labels_train.append(labels[train[i]])\n",
        "    # Convert to binary encoded labels\n",
        "    labels_train_enc = keras.utils.to_categorical(labels_train, total_classes) \n",
        "    \n",
        "    labels_test=[]\n",
        "    for i in range(len(test)):\n",
        "        labels_test.append(labels[test[i]])\n",
        "    # Convert to binary encoded labels\n",
        "    labels_test_enc = keras.utils.to_categorical(labels_test, total_classes) \n",
        "    #Apply random-sampling to adjust the class distribution\n",
        "    random_sampler = RandomUnderSampler(return_indices=True)\n",
        "    train_rs, train_labels_rs, resampled = random_sampler.fit_sample(data[train].reshape(len(data[train]), Row*Column*Channels), labels_train)\n",
        "\n",
        "    train_rs, train_labels_rs = shuffle(train_rs, train_labels_rs)\n",
        "    train_rs = train_rs.reshape(len(train_rs), Channels,Row, Column) \n",
        "    \n",
        "    print('=======================================================================================================')\n",
        "\n",
        "    #Plot the graph for the distributed data\n",
        "    print(\"Fold Number\", fold)\n",
        "    print('Class distribution for fold:', fold)\n",
        "    ax = sea.countplot(train_labels_rs)\n",
        "    sea.countplot(train_labels_rs)\n",
        "    plt.show()\n",
        "\n",
        "    # convert to binary encoded labels\n",
        "    train_labels_rs_wide = keras.utils.to_categorical(train_labels_rs, total_classes)\n",
        "    \n",
        "    # Train the model\n",
        "    history = model.fit(train_rs, train_labels_rs_wide, \n",
        "                    batch_size=128, \n",
        "                    epochs=epochs, \n",
        "                    validation_split=0.25, \n",
        "                    verbose=1, shuffle=False)\n",
        "    \n",
        "    # Make a set of predictions for the validation data\n",
        "    print(\"Test data\")\n",
        "    pred = model.predict_classes(data[test])\n",
        "    \n",
        "    # Print performance details\n",
        "    print(metrics.classification_report(labels_test, pred))\n",
        "    \n",
        "    # Print confusion matrix\n",
        "    print('Confusion Matrix :', fold)\n",
        "    display(pd.crosstab(np.array(labels_test),pred,rownames=['True'],colnames=['predicted'],margins ='True'))\n",
        "\n",
        "    \n",
        "    # Score some test data; Score trained model.\n",
        "    scores = model.evaluate(data[test], labels_test_enc, verbose=0)\n",
        "    print('\\n\\n \\nTest Loss Fold',fold,'):', scores[0])\n",
        "    print('Test Accuracy (Fold',fold,'):%.2f%%' % (scores[1]*100))\n",
        "    print(\"%s: %.2f%%\" % (model.metrics_names[1], scores[1]*100))\n",
        "    cross_validation_scores.append(scores[1] * 100)\n",
        "    \n",
        "    # Summarize history for accuracy and Plot it\n",
        "    print('\\n\\n Model Accuracy (Fold',fold,'):')\n",
        "    acc = history.history['acc']\n",
        "    val_acc = history.history['val_acc']\n",
        "    plt.title('Model Accuracy')\n",
        "    plt.xlabel('Epochs')\n",
        "    plt.ylabel('Accuracy')\n",
        "    plt.plot(acc, 'blue', label='Training Accuracy')\n",
        "    plt.plot(val_acc, 'green', label='Validation Accuracy')\n",
        "    plt.xticks(range(0,epochs)[0::2])\n",
        "    plt.legend()\n",
        "    plt.show()\n",
        "    \n",
        "print(\"\\n\\n Model accuracy (over all folds): %.2f%% (+/- %.2f%%)\" % (np.mean(cross_validation_scores), np.std(cross_validation_scores)))"
      ],
      "execution_count": 0,
      "outputs": [
        {
          "output_type": "stream",
          "text": [
            "=======================================================================================================\n",
            "Fold Number 1\n",
            "Class distribution for fold: 1\n"
          ],
          "name": "stdout"
        },
        {
          "output_type": "display_data",
          "data": {
            "image/png": "[encoded data removed]",
            "text/plain": [
              "<Figure size 432x288 with 1 Axes>"
            ]
          },
          "metadata": {
            "tags": [],
            "needs_background": "light"
          }
        },
        {
          "output_type": "stream",
          "text": [
            "Train on 3993 samples, validate on 1331 samples\n",
            "Epoch 1/50\n",
            "3993/3993 [==============================] - 30s 7ms/step - loss: 1.3850 - acc: 0.2795 - val_loss: 1.3350 - val_acc: 0.4282\n",
            "Epoch 2/50\n",
            "3993/3993 [==============================] - 32s 8ms/step - loss: 1.2530 - acc: 0.4225 - val_loss: 1.1486 - val_acc: 0.5004\n",
            "Epoch 3/50\n",
            "3993/3993 [==============================] - 31s 8ms/step - loss: 1.1245 - acc: 0.5049 - val_loss: 1.0515 - val_acc: 0.5657\n",
            "Epoch 4/50\n",
            "3993/3993 [==============================] - 30s 7ms/step - loss: 1.0332 - acc: 0.5482 - val_loss: 0.9893 - val_acc: 0.5853\n",
            "Epoch 5/50\n",
            "3993/3993 [==============================] - 27s 7ms/step - loss: 0.9747 - acc: 0.5770 - val_loss: 0.9640 - val_acc: 0.5838\n",
            "Epoch 6/50\n",
            "3993/3993 [==============================] - 29s 7ms/step - loss: 0.9376 - acc: 0.5860 - val_loss: 0.9532 - val_acc: 0.5838\n",
            "Epoch 7/50\n",
            "3993/3993 [==============================] - 28s 7ms/step - loss: 0.9081 - acc: 0.6011 - val_loss: 0.9540 - val_acc: 0.5823\n",
            "Epoch 8/50\n",
            "3993/3993 [==============================] - 29s 7ms/step - loss: 0.8898 - acc: 0.6128 - val_loss: 0.9536 - val_acc: 0.5815\n",
            "Epoch 9/50\n",
            "3993/3993 [==============================] - 29s 7ms/step - loss: 0.8599 - acc: 0.6228 - val_loss: 0.9560 - val_acc: 0.5808\n",
            "Epoch 10/50\n",
            "3993/3993 [==============================] - 28s 7ms/step - loss: 0.8461 - acc: 0.6276 - val_loss: 0.9562 - val_acc: 0.5778\n",
            "Epoch 11/50\n",
            "3993/3993 [==============================] - 27s 7ms/step - loss: 0.8182 - acc: 0.6431 - val_loss: 0.9709 - val_acc: 0.5875\n",
            "Epoch 12/50\n",
            "3993/3993 [==============================] - 28s 7ms/step - loss: 0.7987 - acc: 0.6466 - val_loss: 0.9653 - val_acc: 0.5793\n",
            "Epoch 13/50\n",
            "3993/3993 [==============================] - 27s 7ms/step - loss: 0.7761 - acc: 0.6632 - val_loss: 0.9886 - val_acc: 0.5755\n",
            "Epoch 14/50\n",
            "3993/3993 [==============================] - 29s 7ms/step - loss: 0.7492 - acc: 0.6727 - val_loss: 0.9770 - val_acc: 0.5702\n",
            "Epoch 15/50\n",
            "3993/3993 [==============================] - 28s 7ms/step - loss: 0.7237 - acc: 0.6877 - val_loss: 1.0097 - val_acc: 0.5710\n",
            "Epoch 16/50\n",
            "3993/3993 [==============================] - 28s 7ms/step - loss: 0.7145 - acc: 0.6910 - val_loss: 1.0462 - val_acc: 0.5657\n",
            "Epoch 17/50\n",
            "3993/3993 [==============================] - 31s 8ms/step - loss: 0.6928 - acc: 0.7007 - val_loss: 1.0197 - val_acc: 0.5763\n",
            "Epoch 18/50\n",
            "3993/3993 [==============================] - 29s 7ms/step - loss: 0.6800 - acc: 0.7020 - val_loss: 1.0424 - val_acc: 0.5725\n",
            "Epoch 19/50\n",
            "3993/3993 [==============================] - 31s 8ms/step - loss: 0.6621 - acc: 0.7112 - val_loss: 1.0604 - val_acc: 0.5748\n",
            "Epoch 20/50\n",
            "3993/3993 [==============================] - 35s 9ms/step - loss: 0.6347 - acc: 0.7250 - val_loss: 1.1008 - val_acc: 0.5702\n",
            "Epoch 21/50\n",
            "3993/3993 [==============================] - 33s 8ms/step - loss: 0.6135 - acc: 0.7350 - val_loss: 1.1410 - val_acc: 0.5702\n",
            "Epoch 22/50\n",
            "3993/3993 [==============================] - 32s 8ms/step - loss: 0.5994 - acc: 0.7410 - val_loss: 1.1551 - val_acc: 0.5770\n",
            "Epoch 23/50\n",
            "3993/3993 [==============================] - 32s 8ms/step - loss: 0.5897 - acc: 0.7451 - val_loss: 1.2082 - val_acc: 0.5657\n",
            "Epoch 24/50\n",
            "3993/3993 [==============================] - 32s 8ms/step - loss: 0.5632 - acc: 0.7578 - val_loss: 1.2627 - val_acc: 0.5733\n",
            "Epoch 25/50\n",
            "3993/3993 [==============================] - 33s 8ms/step - loss: 0.5419 - acc: 0.7681 - val_loss: 1.2904 - val_acc: 0.5657\n",
            "Epoch 26/50\n",
            "3993/3993 [==============================] - 34s 9ms/step - loss: 0.5392 - acc: 0.7729 - val_loss: 1.3544 - val_acc: 0.5620\n",
            "Epoch 27/50\n",
            "3993/3993 [==============================] - 29s 7ms/step - loss: 0.5516 - acc: 0.7618 - val_loss: 1.3500 - val_acc: 0.5620\n",
            "Epoch 28/50\n",
            "3993/3993 [==============================] - 32s 8ms/step - loss: 0.5494 - acc: 0.7581 - val_loss: 1.3330 - val_acc: 0.5725\n",
            "Epoch 29/50\n",
            "3993/3993 [==============================] - 34s 8ms/step - loss: 0.5147 - acc: 0.7826 - val_loss: 1.3530 - val_acc: 0.5620\n",
            "Epoch 30/50\n",
            "3993/3993 [==============================] - 32s 8ms/step - loss: 0.4838 - acc: 0.7926 - val_loss: 1.4572 - val_acc: 0.5620\n",
            "Epoch 31/50\n",
            "3993/3993 [==============================] - 33s 8ms/step - loss: 0.4712 - acc: 0.7981 - val_loss: 1.4581 - val_acc: 0.5612\n",
            "Epoch 32/50\n",
            "3993/3993 [==============================] - 35s 9ms/step - loss: 0.4713 - acc: 0.7904 - val_loss: 1.4445 - val_acc: 0.5672\n",
            "Epoch 33/50\n",
            "3993/3993 [==============================] - 37s 9ms/step - loss: 0.4541 - acc: 0.8012 - val_loss: 1.4374 - val_acc: 0.5545\n",
            "Epoch 34/50\n",
            "3993/3993 [==============================] - 38s 10ms/step - loss: 0.4556 - acc: 0.7999 - val_loss: 1.5093 - val_acc: 0.5530\n",
            "Epoch 35/50\n",
            "3993/3993 [==============================] - 35s 9ms/step - loss: 0.4518 - acc: 0.8092 - val_loss: 1.5579 - val_acc: 0.5560\n",
            "Epoch 36/50\n",
            "3993/3993 [==============================] - 35s 9ms/step - loss: 0.4529 - acc: 0.8094 - val_loss: 1.5252 - val_acc: 0.5462\n",
            "Epoch 37/50\n",
            "3993/3993 [==============================] - 34s 9ms/step - loss: 0.4321 - acc: 0.8087 - val_loss: 1.6839 - val_acc: 0.5485\n",
            "Epoch 38/50\n",
            "3993/3993 [==============================] - 36s 9ms/step - loss: 0.4249 - acc: 0.8159 - val_loss: 1.7599 - val_acc: 0.5312\n",
            "Epoch 39/50\n",
            "3993/3993 [==============================] - 33s 8ms/step - loss: 0.4231 - acc: 0.8194 - val_loss: 1.6411 - val_acc: 0.5507\n",
            "Epoch 40/50\n",
            "3993/3993 [==============================] - 35s 9ms/step - loss: 0.3919 - acc: 0.8315 - val_loss: 1.6592 - val_acc: 0.5642\n",
            "Epoch 41/50\n",
            "3993/3993 [==============================] - 31s 8ms/step - loss: 0.3739 - acc: 0.8400 - val_loss: 1.8142 - val_acc: 0.5755\n",
            "Epoch 42/50\n",
            "3993/3993 [==============================] - 35s 9ms/step - loss: 0.3871 - acc: 0.8342 - val_loss: 1.8541 - val_acc: 0.5702\n",
            "Epoch 43/50\n",
            "3993/3993 [==============================] - 33s 8ms/step - loss: 0.4049 - acc: 0.8192 - val_loss: 1.7431 - val_acc: 0.5710\n",
            "Epoch 44/50\n",
            "3993/3993 [==============================] - 32s 8ms/step - loss: 0.3603 - acc: 0.8457 - val_loss: 1.9313 - val_acc: 0.5605\n",
            "Epoch 45/50\n",
            "3993/3993 [==============================] - 31s 8ms/step - loss: 0.3465 - acc: 0.8575 - val_loss: 1.9004 - val_acc: 0.5582\n",
            "Epoch 46/50\n",
            "3993/3993 [==============================] - 31s 8ms/step - loss: 0.3268 - acc: 0.8573 - val_loss: 1.9622 - val_acc: 0.5394\n",
            "Epoch 47/50\n",
            "3993/3993 [==============================] - 31s 8ms/step - loss: 0.3026 - acc: 0.8663 - val_loss: 2.0592 - val_acc: 0.5417\n",
            "Epoch 48/50\n",
            "3993/3993 [==============================] - 31s 8ms/step - loss: 0.2867 - acc: 0.8753 - val_loss: 2.1143 - val_acc: 0.5387\n",
            "Epoch 49/50\n",
            "3993/3993 [==============================] - 31s 8ms/step - loss: 0.2766 - acc: 0.8750 - val_loss: 2.0988 - val_acc: 0.5605\n",
            "Epoch 50/50\n",
            "3993/3993 [==============================] - 31s 8ms/step - loss: 0.2747 - acc: 0.8813 - val_loss: 2.1676 - val_acc: 0.5440\n",
            "Test data\n",
            "              precision    recall  f1-score   support\n",
            "\n",
            "           0       0.79      0.58      0.67      6028\n",
            "           1       0.12      0.66      0.21       446\n",
            "           2       0.65      0.41      0.50      5818\n",
            "           3       0.11      0.55      0.18       444\n",
            "\n",
            "   micro avg       0.50      0.50      0.50     12736\n",
            "   macro avg       0.42      0.55      0.39     12736\n",
            "weighted avg       0.68      0.50      0.56     12736\n",
            "\n",
            "Confusion Matrix : 1\n"
          ],
          "name": "stdout"
        },
        {
          "output_type": "display_data",
          "data": {
            "text/html": [
              "<div>\n",
              "<style scoped>\n",
              "    .dataframe tbody tr th:only-of-type {\n",
              "        vertical-align: middle;\n",
              "    }\n",
              "\n",
              "    .dataframe tbody tr th {\n",
              "        vertical-align: top;\n",
              "    }\n",
              "\n",
              "    .dataframe thead th {\n",
              "        text-align: right;\n",
              "    }\n",
              "</style>\n",
              "<table border=\"1\" class=\"dataframe\">\n",
              "  <thead>\n",
              "    <tr style=\"text-align: right;\">\n",
              "      <th>predicted</th>\n",
              "      <th>0</th>\n",
              "      <th>1</th>\n",
              "      <th>2</th>\n",
              "      <th>3</th>\n",
              "      <th>All</th>\n",
              "    </tr>\n",
              "    <tr>\n",
              "      <th>True</th>\n",
              "      <th></th>\n",
              "      <th></th>\n",
              "      <th></th>\n",
              "      <th></th>\n",
              "      <th></th>\n",
              "    </tr>\n",
              "  </thead>\n",
              "  <tbody>\n",
              "    <tr>\n",
              "      <th>0</th>\n",
              "      <td>3508</td>\n",
              "      <td>759</td>\n",
              "      <td>1053</td>\n",
              "      <td>708</td>\n",
              "      <td>6028</td>\n",
              "    </tr>\n",
              "    <tr>\n",
              "      <th>1</th>\n",
              "      <td>60</td>\n",
              "      <td>295</td>\n",
              "      <td>86</td>\n",
              "      <td>5</td>\n",
              "      <td>446</td>\n",
              "    </tr>\n",
              "    <tr>\n",
              "      <th>2</th>\n",
              "      <td>834</td>\n",
              "      <td>1326</td>\n",
              "      <td>2367</td>\n",
              "      <td>1291</td>\n",
              "      <td>5818</td>\n",
              "    </tr>\n",
              "    <tr>\n",
              "      <th>3</th>\n",
              "      <td>63</td>\n",
              "      <td>14</td>\n",
              "      <td>124</td>\n",
              "      <td>243</td>\n",
              "      <td>444</td>\n",
              "    </tr>\n",
              "    <tr>\n",
              "      <th>All</th>\n",
              "      <td>4465</td>\n",
              "      <td>2394</td>\n",
              "      <td>3630</td>\n",
              "      <td>2247</td>\n",
              "      <td>12736</td>\n",
              "    </tr>\n",
              "  </tbody>\n",
              "</table>\n",
              "</div>"
            ],
            "text/plain": [
              "predicted     0     1     2     3    All\n",
              "True                                    \n",
              "0          3508   759  1053   708   6028\n",
              "1            60   295    86     5    446\n",
              "2           834  1326  2367  1291   5818\n",
              "3            63    14   124   243    444\n",
              "All        4465  2394  3630  2247  12736"
            ]
          },
          "metadata": {
            "tags": []
          }
        },
        {
          "output_type": "stream",
          "text": [
            "\n",
            "\n",
            " \n",
            "Test Loss Fold 1 ): 2.256357018222761\n",
            "Test Accuracy (Fold 1 ):50.35%\n",
            "acc: 50.35%\n",
            "\n",
            "\n",
            " Model Accuracy (Fold 1 ):\n"
          ],
          "name": "stdout"
        },
        {
          "output_type": "display_data",
          "data": {
            "image/png": "[encoded data removed]",
            "text/plain": [
              "<Figure size 432x288 with 1 Axes>"
            ]
          },
          "metadata": {
            "tags": [],
            "needs_background": "light"
          }
        },
        {
          "output_type": "stream",
          "text": [
            "=======================================================================================================\n",
            "Fold Number 2\n",
            "Class distribution for fold: 2\n"
          ],
          "name": "stdout"
        },
        {
          "output_type": "display_data",
          "data": {
            "image/png": "[encoded data removed]",
            "text/plain": [
              "<Figure size 432x288 with 1 Axes>"
            ]
          },
          "metadata": {
            "tags": [],
            "needs_background": "light"
          }
        },
        {
          "output_type": "stream",
          "text": [
            "Train on 3993 samples, validate on 1331 samples\n",
            "Epoch 1/50\n",
            "3993/3993 [==============================] - 31s 8ms/step - loss: 1.0560 - acc: 0.5788 - val_loss: 0.8819 - val_acc: 0.6213\n",
            "Epoch 2/50\n",
            "3993/3993 [==============================] - 31s 8ms/step - loss: 0.8445 - acc: 0.6223 - val_loss: 0.8532 - val_acc: 0.6206\n",
            "Epoch 3/50\n",
            "3993/3993 [==============================] - 34s 8ms/step - loss: 0.7841 - acc: 0.6484 - val_loss: 0.8537 - val_acc: 0.6334\n",
            "Epoch 4/50\n",
            "3993/3993 [==============================] - 33s 8ms/step - loss: 0.7347 - acc: 0.6564 - val_loss: 0.8651 - val_acc: 0.6334\n",
            "Epoch 5/50\n",
            "3993/3993 [==============================] - 31s 8ms/step - loss: 0.6952 - acc: 0.6829 - val_loss: 0.8787 - val_acc: 0.6258\n",
            "Epoch 6/50\n",
            "3993/3993 [==============================] - 31s 8ms/step - loss: 0.6711 - acc: 0.6895 - val_loss: 0.9085 - val_acc: 0.6341\n",
            "Epoch 7/50\n",
            "3993/3993 [==============================] - 31s 8ms/step - loss: 0.6268 - acc: 0.7112 - val_loss: 0.9396 - val_acc: 0.6228\n",
            "Epoch 8/50\n",
            "3993/3993 [==============================] - 31s 8ms/step - loss: 0.6134 - acc: 0.7153 - val_loss: 0.9548 - val_acc: 0.6289\n",
            "Epoch 9/50\n",
            "3993/3993 [==============================] - 32s 8ms/step - loss: 0.5791 - acc: 0.7350 - val_loss: 1.0029 - val_acc: 0.6273\n",
            "Epoch 10/50\n",
            "3993/3993 [==============================] - 31s 8ms/step - loss: 0.5573 - acc: 0.7476 - val_loss: 1.0446 - val_acc: 0.6273\n",
            "Epoch 11/50\n",
            "3993/3993 [==============================] - 32s 8ms/step - loss: 0.5335 - acc: 0.7556 - val_loss: 1.0856 - val_acc: 0.6206\n",
            "Epoch 12/50\n",
            "3993/3993 [==============================] - 31s 8ms/step - loss: 0.5097 - acc: 0.7596 - val_loss: 1.1182 - val_acc: 0.6138\n",
            "Epoch 13/50\n",
            "3993/3993 [==============================] - 32s 8ms/step - loss: 0.4912 - acc: 0.7826 - val_loss: 1.1789 - val_acc: 0.6153\n",
            "Epoch 14/50\n",
            "3993/3993 [==============================] - 27s 7ms/step - loss: 0.4786 - acc: 0.7804 - val_loss: 1.2331 - val_acc: 0.6078\n",
            "Epoch 15/50\n",
            "3993/3993 [==============================] - 27s 7ms/step - loss: 0.4575 - acc: 0.7909 - val_loss: 1.2859 - val_acc: 0.6198\n",
            "Epoch 16/50\n",
            "3993/3993 [==============================] - 27s 7ms/step - loss: 0.4497 - acc: 0.7991 - val_loss: 1.3115 - val_acc: 0.6011\n",
            "Epoch 17/50\n",
            "3993/3993 [==============================] - 27s 7ms/step - loss: 0.4390 - acc: 0.8079 - val_loss: 1.3110 - val_acc: 0.6131\n",
            "Epoch 18/50\n",
            "3993/3993 [==============================] - 27s 7ms/step - loss: 0.4253 - acc: 0.8102 - val_loss: 1.2723 - val_acc: 0.6056\n",
            "Epoch 19/50\n",
            "3993/3993 [==============================] - 27s 7ms/step - loss: 0.4207 - acc: 0.8129 - val_loss: 1.3717 - val_acc: 0.5875\n",
            "Epoch 20/50\n",
            "3993/3993 [==============================] - 27s 7ms/step - loss: 0.4081 - acc: 0.8184 - val_loss: 1.4284 - val_acc: 0.5988\n",
            "Epoch 21/50\n",
            "3993/3993 [==============================] - 29s 7ms/step - loss: 0.4306 - acc: 0.8092 - val_loss: 1.4908 - val_acc: 0.5950\n",
            "Epoch 22/50\n",
            "3993/3993 [==============================] - 32s 8ms/step - loss: 0.4731 - acc: 0.7904 - val_loss: 1.3734 - val_acc: 0.6003\n",
            "Epoch 23/50\n",
            "3993/3993 [==============================] - 29s 7ms/step - loss: 0.4120 - acc: 0.8194 - val_loss: 1.4911 - val_acc: 0.6123\n",
            "Epoch 24/50\n",
            "3993/3993 [==============================] - 29s 7ms/step - loss: 0.3479 - acc: 0.8467 - val_loss: 1.5825 - val_acc: 0.6011\n",
            "Epoch 25/50\n",
            "3993/3993 [==============================] - 28s 7ms/step - loss: 0.3309 - acc: 0.8507 - val_loss: 1.6845 - val_acc: 0.5988\n",
            "Epoch 26/50\n",
            "3993/3993 [==============================] - 30s 8ms/step - loss: 0.3269 - acc: 0.8550 - val_loss: 1.7000 - val_acc: 0.6078\n",
            "Epoch 27/50\n",
            "3993/3993 [==============================] - 34s 8ms/step - loss: 0.3132 - acc: 0.8610 - val_loss: 1.7492 - val_acc: 0.5973\n",
            "Epoch 28/50\n",
            "3993/3993 [==============================] - 29s 7ms/step - loss: 0.3040 - acc: 0.8575 - val_loss: 1.7920 - val_acc: 0.5898\n",
            "Epoch 29/50\n",
            "3993/3993 [==============================] - 28s 7ms/step - loss: 0.2803 - acc: 0.8720 - val_loss: 1.9237 - val_acc: 0.5913\n",
            "Epoch 30/50\n",
            "3993/3993 [==============================] - 29s 7ms/step - loss: 0.2996 - acc: 0.8745 - val_loss: 1.8437 - val_acc: 0.6026\n",
            "Epoch 31/50\n",
            "3993/3993 [==============================] - 29s 7ms/step - loss: 0.2718 - acc: 0.8790 - val_loss: 1.8475 - val_acc: 0.5995\n",
            "Epoch 32/50\n",
            "3993/3993 [==============================] - 29s 7ms/step - loss: 0.2481 - acc: 0.8961 - val_loss: 2.0708 - val_acc: 0.6011\n",
            "Epoch 33/50\n",
            "3993/3993 [==============================] - 28s 7ms/step - loss: 0.2701 - acc: 0.8840 - val_loss: 2.0511 - val_acc: 0.6093\n",
            "Epoch 34/50\n",
            "3993/3993 [==============================] - 28s 7ms/step - loss: 0.2626 - acc: 0.8808 - val_loss: 2.0214 - val_acc: 0.6116\n",
            "Epoch 35/50\n",
            "3993/3993 [==============================] - 29s 7ms/step - loss: 0.2483 - acc: 0.8953 - val_loss: 2.0451 - val_acc: 0.6018\n",
            "Epoch 36/50\n",
            "3993/3993 [==============================] - 30s 8ms/step - loss: 0.2359 - acc: 0.8978 - val_loss: 2.1175 - val_acc: 0.5980\n",
            "Epoch 37/50\n",
            "3993/3993 [==============================] - 33s 8ms/step - loss: 0.2382 - acc: 0.8986 - val_loss: 2.2269 - val_acc: 0.6086\n",
            "Epoch 38/50\n",
            "3993/3993 [==============================] - 36s 9ms/step - loss: 0.2448 - acc: 0.8923 - val_loss: 2.1421 - val_acc: 0.5905\n",
            "Epoch 39/50\n",
            "3993/3993 [==============================] - 33s 8ms/step - loss: 0.2425 - acc: 0.8963 - val_loss: 2.1647 - val_acc: 0.5815\n",
            "Epoch 40/50\n",
            "3993/3993 [==============================] - 35s 9ms/step - loss: 0.2422 - acc: 0.8941 - val_loss: 2.1008 - val_acc: 0.5905\n",
            "Epoch 41/50\n",
            "3993/3993 [==============================] - 34s 9ms/step - loss: 0.2324 - acc: 0.8928 - val_loss: 2.2734 - val_acc: 0.5748\n",
            "Epoch 42/50\n",
            "3993/3993 [==============================] - 34s 9ms/step - loss: 0.2350 - acc: 0.8993 - val_loss: 2.2988 - val_acc: 0.5920\n",
            "Epoch 43/50\n",
            "3993/3993 [==============================] - 32s 8ms/step - loss: 0.2251 - acc: 0.9021 - val_loss: 2.2381 - val_acc: 0.5838\n",
            "Epoch 44/50\n",
            "3993/3993 [==============================] - 32s 8ms/step - loss: 0.2167 - acc: 0.9106 - val_loss: 2.4103 - val_acc: 0.5898\n",
            "Epoch 45/50\n",
            "3993/3993 [==============================] - 31s 8ms/step - loss: 0.2008 - acc: 0.9121 - val_loss: 2.4698 - val_acc: 0.5845\n",
            "Epoch 46/50\n",
            "3993/3993 [==============================] - 32s 8ms/step - loss: 0.2038 - acc: 0.9128 - val_loss: 2.3918 - val_acc: 0.5755\n",
            "Epoch 47/50\n",
            "3993/3993 [==============================] - 30s 8ms/step - loss: 0.2087 - acc: 0.9033 - val_loss: 2.4927 - val_acc: 0.5620\n",
            "Epoch 48/50\n",
            "3993/3993 [==============================] - 34s 8ms/step - loss: 0.2303 - acc: 0.9036 - val_loss: 2.3537 - val_acc: 0.5823\n",
            "Epoch 49/50\n",
            "3993/3993 [==============================] - 35s 9ms/step - loss: 0.2178 - acc: 0.9093 - val_loss: 2.4638 - val_acc: 0.5815\n",
            "Epoch 50/50\n",
            "3993/3993 [==============================] - 34s 8ms/step - loss: 0.2036 - acc: 0.9126 - val_loss: 2.5541 - val_acc: 0.5657\n",
            "Test data\n",
            "              precision    recall  f1-score   support\n",
            "\n",
            "           0       0.81      0.54      0.65      6028\n",
            "           1       0.11      0.73      0.19       445\n",
            "           2       0.68      0.50      0.58      5817\n",
            "           3       0.14      0.47      0.21       444\n",
            "\n",
            "   micro avg       0.53      0.53      0.53     12734\n",
            "   macro avg       0.43      0.56      0.41     12734\n",
            "weighted avg       0.70      0.53      0.58     12734\n",
            "\n",
            "Confusion Matrix : 2\n"
          ],
          "name": "stdout"
        },
        {
          "output_type": "display_data",
          "data": {
            "text/html": [
              "<div>\n",
              "<style scoped>\n",
              "    .dataframe tbody tr th:only-of-type {\n",
              "        vertical-align: middle;\n",
              "    }\n",
              "\n",
              "    .dataframe tbody tr th {\n",
              "        vertical-align: top;\n",
              "    }\n",
              "\n",
              "    .dataframe thead th {\n",
              "        text-align: right;\n",
              "    }\n",
              "</style>\n",
              "<table border=\"1\" class=\"dataframe\">\n",
              "  <thead>\n",
              "    <tr style=\"text-align: right;\">\n",
              "      <th>predicted</th>\n",
              "      <th>0</th>\n",
              "      <th>1</th>\n",
              "      <th>2</th>\n",
              "      <th>3</th>\n",
              "      <th>All</th>\n",
              "    </tr>\n",
              "    <tr>\n",
              "      <th>True</th>\n",
              "      <th></th>\n",
              "      <th></th>\n",
              "      <th></th>\n",
              "      <th></th>\n",
              "      <th></th>\n",
              "    </tr>\n",
              "  </thead>\n",
              "  <tbody>\n",
              "    <tr>\n",
              "      <th>0</th>\n",
              "      <td>3262</td>\n",
              "      <td>1119</td>\n",
              "      <td>1090</td>\n",
              "      <td>557</td>\n",
              "      <td>6028</td>\n",
              "    </tr>\n",
              "    <tr>\n",
              "      <th>1</th>\n",
              "      <td>24</td>\n",
              "      <td>325</td>\n",
              "      <td>94</td>\n",
              "      <td>2</td>\n",
              "      <td>445</td>\n",
              "    </tr>\n",
              "    <tr>\n",
              "      <th>2</th>\n",
              "      <td>716</td>\n",
              "      <td>1452</td>\n",
              "      <td>2897</td>\n",
              "      <td>752</td>\n",
              "      <td>5817</td>\n",
              "    </tr>\n",
              "    <tr>\n",
              "      <th>3</th>\n",
              "      <td>46</td>\n",
              "      <td>28</td>\n",
              "      <td>160</td>\n",
              "      <td>210</td>\n",
              "      <td>444</td>\n",
              "    </tr>\n",
              "    <tr>\n",
              "      <th>All</th>\n",
              "      <td>4048</td>\n",
              "      <td>2924</td>\n",
              "      <td>4241</td>\n",
              "      <td>1521</td>\n",
              "      <td>12734</td>\n",
              "    </tr>\n",
              "  </tbody>\n",
              "</table>\n",
              "</div>"
            ],
            "text/plain": [
              "predicted     0     1     2     3    All\n",
              "True                                    \n",
              "0          3262  1119  1090   557   6028\n",
              "1            24   325    94     2    445\n",
              "2           716  1452  2897   752   5817\n",
              "3            46    28   160   210    444\n",
              "All        4048  2924  4241  1521  12734"
            ]
          },
          "metadata": {
            "tags": []
          }
        },
        {
          "output_type": "stream",
          "text": [
            "\n",
            "\n",
            " \n",
            "Test Loss Fold 2 ): 2.613667015941734\n",
            "Test Accuracy (Fold 2 ):52.57%\n",
            "acc: 52.57%\n",
            "\n",
            "\n",
            " Model Accuracy (Fold 2 ):\n"
          ],
          "name": "stdout"
        },
        {
          "output_type": "display_data",
          "data": {
            "image/png": "[encoded data removed]",
            "text/plain": [
              "<Figure size 432x288 with 1 Axes>"
            ]
          },
          "metadata": {
            "tags": [],
            "needs_background": "light"
          }
        },
        {
          "output_type": "stream",
          "text": [
            "=======================================================================================================\n",
            "Fold Number 3\n",
            "Class distribution for fold: 3\n"
          ],
          "name": "stdout"
        },
        {
          "output_type": "display_data",
          "data": {
            "image/png": "[encoded data removed]",
            "text/plain": [
              "<Figure size 432x288 with 1 Axes>"
            ]
          },
          "metadata": {
            "tags": [],
            "needs_background": "light"
          }
        },
        {
          "output_type": "stream",
          "text": [
            "Train on 3993 samples, validate on 1331 samples\n",
            "Epoch 1/50\n",
            "3993/3993 [==============================] - 30s 7ms/step - loss: 1.1625 - acc: 0.5404 - val_loss: 0.9021 - val_acc: 0.5913\n",
            "Epoch 2/50\n",
            "3993/3993 [==============================] - 31s 8ms/step - loss: 0.8435 - acc: 0.6339 - val_loss: 0.8536 - val_acc: 0.6409\n",
            "Epoch 3/50\n",
            "3993/3993 [==============================] - 31s 8ms/step - loss: 0.7614 - acc: 0.6509 - val_loss: 0.8593 - val_acc: 0.6386\n",
            "Epoch 4/50\n",
            "3993/3993 [==============================] - 30s 8ms/step - loss: 0.7076 - acc: 0.6757 - val_loss: 0.8679 - val_acc: 0.6491\n",
            "Epoch 5/50\n",
            "3993/3993 [==============================] - 30s 8ms/step - loss: 0.6592 - acc: 0.6900 - val_loss: 0.8853 - val_acc: 0.6341\n",
            "Epoch 6/50\n",
            "3993/3993 [==============================] - 30s 7ms/step - loss: 0.6353 - acc: 0.7057 - val_loss: 0.9260 - val_acc: 0.6424\n",
            "Epoch 7/50\n",
            "3993/3993 [==============================] - 30s 8ms/step - loss: 0.5975 - acc: 0.7203 - val_loss: 0.9866 - val_acc: 0.6266\n",
            "Epoch 8/50\n",
            "3993/3993 [==============================] - 32s 8ms/step - loss: 0.5728 - acc: 0.7268 - val_loss: 1.0261 - val_acc: 0.6266\n",
            "Epoch 9/50\n",
            "3993/3993 [==============================] - 35s 9ms/step - loss: 0.5544 - acc: 0.7448 - val_loss: 1.0726 - val_acc: 0.6168\n",
            "Epoch 10/50\n",
            "3993/3993 [==============================] - 30s 8ms/step - loss: 0.5222 - acc: 0.7541 - val_loss: 1.1250 - val_acc: 0.6198\n",
            "Epoch 11/50\n",
            "3993/3993 [==============================] - 29s 7ms/step - loss: 0.5034 - acc: 0.7663 - val_loss: 1.1982 - val_acc: 0.6266\n",
            "Epoch 12/50\n",
            "3993/3993 [==============================] - 30s 7ms/step - loss: 0.4925 - acc: 0.7711 - val_loss: 1.2194 - val_acc: 0.6191\n",
            "Epoch 13/50\n",
            "3993/3993 [==============================] - 30s 8ms/step - loss: 0.4690 - acc: 0.7749 - val_loss: 1.2509 - val_acc: 0.6176\n",
            "Epoch 14/50\n",
            "3993/3993 [==============================] - 29s 7ms/step - loss: 0.4390 - acc: 0.7934 - val_loss: 1.3214 - val_acc: 0.5958\n",
            "Epoch 15/50\n",
            "3993/3993 [==============================] - 29s 7ms/step - loss: 0.4287 - acc: 0.7976 - val_loss: 1.3617 - val_acc: 0.6048\n",
            "Epoch 16/50\n",
            "3993/3993 [==============================] - 29s 7ms/step - loss: 0.4175 - acc: 0.8094 - val_loss: 1.3947 - val_acc: 0.5980\n",
            "Epoch 17/50\n",
            "3993/3993 [==============================] - 31s 8ms/step - loss: 0.4001 - acc: 0.8139 - val_loss: 1.4184 - val_acc: 0.6041\n",
            "Epoch 18/50\n",
            "3993/3993 [==============================] - 30s 8ms/step - loss: 0.3942 - acc: 0.8102 - val_loss: 1.4745 - val_acc: 0.6048\n",
            "Epoch 19/50\n",
            "3993/3993 [==============================] - 30s 7ms/step - loss: 0.3665 - acc: 0.8300 - val_loss: 1.5463 - val_acc: 0.5905\n",
            "Epoch 20/50\n",
            "3993/3993 [==============================] - 32s 8ms/step - loss: 0.3669 - acc: 0.8315 - val_loss: 1.6104 - val_acc: 0.5943\n",
            "Epoch 21/50\n",
            "3993/3993 [==============================] - 34s 8ms/step - loss: 0.3435 - acc: 0.8405 - val_loss: 1.6954 - val_acc: 0.5913\n",
            "Epoch 22/50\n",
            "3993/3993 [==============================] - 34s 9ms/step - loss: 0.3253 - acc: 0.8517 - val_loss: 1.7536 - val_acc: 0.5928\n",
            "Epoch 23/50\n",
            "3993/3993 [==============================] - 32s 8ms/step - loss: 0.3342 - acc: 0.8437 - val_loss: 1.7685 - val_acc: 0.5808\n",
            "Epoch 24/50\n",
            "3993/3993 [==============================] - 31s 8ms/step - loss: 0.3170 - acc: 0.8590 - val_loss: 1.8403 - val_acc: 0.5748\n",
            "Epoch 25/50\n",
            "3993/3993 [==============================] - 30s 7ms/step - loss: 0.3187 - acc: 0.8608 - val_loss: 1.8274 - val_acc: 0.5898\n",
            "Epoch 26/50\n",
            "3993/3993 [==============================] - 28s 7ms/step - loss: 0.3126 - acc: 0.8562 - val_loss: 1.7754 - val_acc: 0.5823\n",
            "Epoch 27/50\n",
            "3993/3993 [==============================] - 29s 7ms/step - loss: 0.2987 - acc: 0.8628 - val_loss: 1.7777 - val_acc: 0.5920\n",
            "Epoch 28/50\n",
            "3993/3993 [==============================] - 28s 7ms/step - loss: 0.2995 - acc: 0.8698 - val_loss: 1.9006 - val_acc: 0.5800\n",
            "Epoch 29/50\n",
            "3993/3993 [==============================] - 26s 7ms/step - loss: 0.2904 - acc: 0.8650 - val_loss: 1.9351 - val_acc: 0.5860\n",
            "Epoch 30/50\n",
            "3993/3993 [==============================] - 27s 7ms/step - loss: 0.2680 - acc: 0.8825 - val_loss: 2.0062 - val_acc: 0.5778\n",
            "Epoch 31/50\n",
            "3993/3993 [==============================] - 27s 7ms/step - loss: 0.2627 - acc: 0.8753 - val_loss: 2.1436 - val_acc: 0.5672\n",
            "Epoch 32/50\n",
            "3993/3993 [==============================] - 28s 7ms/step - loss: 0.2649 - acc: 0.8770 - val_loss: 2.0928 - val_acc: 0.5935\n",
            "Epoch 33/50\n",
            "3993/3993 [==============================] - 26s 7ms/step - loss: 0.2511 - acc: 0.8843 - val_loss: 2.1005 - val_acc: 0.5808\n",
            "Epoch 34/50\n",
            "3993/3993 [==============================] - 27s 7ms/step - loss: 0.2364 - acc: 0.8981 - val_loss: 2.1796 - val_acc: 0.5838\n",
            "Epoch 35/50\n",
            "3993/3993 [==============================] - 28s 7ms/step - loss: 0.2366 - acc: 0.8953 - val_loss: 2.1343 - val_acc: 0.5778\n",
            "Epoch 36/50\n",
            "3993/3993 [==============================] - 28s 7ms/step - loss: 0.2212 - acc: 0.9038 - val_loss: 2.1297 - val_acc: 0.5890\n",
            "Epoch 37/50\n",
            "3993/3993 [==============================] - 28s 7ms/step - loss: 0.2399 - acc: 0.8913 - val_loss: 2.1937 - val_acc: 0.5823\n",
            "Epoch 38/50\n",
            "3993/3993 [==============================] - 29s 7ms/step - loss: 0.2435 - acc: 0.8958 - val_loss: 2.1728 - val_acc: 0.5770\n",
            "Epoch 39/50\n",
            "3993/3993 [==============================] - 36s 9ms/step - loss: 0.2246 - acc: 0.9018 - val_loss: 2.2867 - val_acc: 0.5770\n",
            "Epoch 40/50\n",
            "3993/3993 [==============================] - 36s 9ms/step - loss: 0.2209 - acc: 0.9051 - val_loss: 2.2668 - val_acc: 0.5935\n",
            "Epoch 41/50\n",
            "3993/3993 [==============================] - 34s 8ms/step - loss: 0.2102 - acc: 0.9046 - val_loss: 2.2844 - val_acc: 0.5920\n",
            "Epoch 42/50\n",
            "3993/3993 [==============================] - 30s 7ms/step - loss: 0.1916 - acc: 0.9133 - val_loss: 2.3870 - val_acc: 0.5808\n",
            "Epoch 43/50\n",
            "3993/3993 [==============================] - 34s 8ms/step - loss: 0.1991 - acc: 0.9149 - val_loss: 2.3350 - val_acc: 0.5763\n",
            "Epoch 44/50\n",
            "3993/3993 [==============================] - 33s 8ms/step - loss: 0.2227 - acc: 0.9078 - val_loss: 2.3981 - val_acc: 0.5785\n",
            "Epoch 45/50\n",
            "3993/3993 [==============================] - 33s 8ms/step - loss: 0.2103 - acc: 0.9071 - val_loss: 2.1881 - val_acc: 0.5763\n",
            "Epoch 46/50\n",
            "3993/3993 [==============================] - 33s 8ms/step - loss: 0.2044 - acc: 0.9161 - val_loss: 2.3480 - val_acc: 0.5830\n",
            "Epoch 47/50\n",
            "3993/3993 [==============================] - 32s 8ms/step - loss: 0.1873 - acc: 0.9179 - val_loss: 2.4164 - val_acc: 0.5913\n",
            "Epoch 48/50\n",
            "3993/3993 [==============================] - 31s 8ms/step - loss: 0.1878 - acc: 0.9174 - val_loss: 2.5133 - val_acc: 0.5823\n",
            "Epoch 49/50\n",
            "3993/3993 [==============================] - 32s 8ms/step - loss: 0.1715 - acc: 0.9264 - val_loss: 2.6088 - val_acc: 0.5808\n",
            "Epoch 50/50\n",
            "3993/3993 [==============================] - 33s 8ms/step - loss: 0.1800 - acc: 0.9199 - val_loss: 2.6291 - val_acc: 0.5763\n",
            "Test data\n",
            "              precision    recall  f1-score   support\n",
            "\n",
            "           0       0.82      0.54      0.65      6028\n",
            "           1       0.20      0.65      0.31       445\n",
            "           2       0.67      0.57      0.62      5817\n",
            "           3       0.12      0.63      0.20       444\n",
            "\n",
            "   micro avg       0.56      0.56      0.56     12734\n",
            "   macro avg       0.45      0.60      0.44     12734\n",
            "weighted avg       0.70      0.56      0.61     12734\n",
            "\n",
            "Confusion Matrix : 3\n"
          ],
          "name": "stdout"
        },
        {
          "output_type": "display_data",
          "data": {
            "text/html": [
              "<div>\n",
              "<style scoped>\n",
              "    .dataframe tbody tr th:only-of-type {\n",
              "        vertical-align: middle;\n",
              "    }\n",
              "\n",
              "    .dataframe tbody tr th {\n",
              "        vertical-align: top;\n",
              "    }\n",
              "\n",
              "    .dataframe thead th {\n",
              "        text-align: right;\n",
              "    }\n",
              "</style>\n",
              "<table border=\"1\" class=\"dataframe\">\n",
              "  <thead>\n",
              "    <tr style=\"text-align: right;\">\n",
              "      <th>predicted</th>\n",
              "      <th>0</th>\n",
              "      <th>1</th>\n",
              "      <th>2</th>\n",
              "      <th>3</th>\n",
              "      <th>All</th>\n",
              "    </tr>\n",
              "    <tr>\n",
              "      <th>True</th>\n",
              "      <th></th>\n",
              "      <th></th>\n",
              "      <th></th>\n",
              "      <th></th>\n",
              "      <th></th>\n",
              "    </tr>\n",
              "  </thead>\n",
              "  <tbody>\n",
              "    <tr>\n",
              "      <th>0</th>\n",
              "      <td>3258</td>\n",
              "      <td>481</td>\n",
              "      <td>1412</td>\n",
              "      <td>877</td>\n",
              "      <td>6028</td>\n",
              "    </tr>\n",
              "    <tr>\n",
              "      <th>1</th>\n",
              "      <td>43</td>\n",
              "      <td>288</td>\n",
              "      <td>107</td>\n",
              "      <td>7</td>\n",
              "      <td>445</td>\n",
              "    </tr>\n",
              "    <tr>\n",
              "      <th>2</th>\n",
              "      <td>659</td>\n",
              "      <td>645</td>\n",
              "      <td>3329</td>\n",
              "      <td>1184</td>\n",
              "      <td>5817</td>\n",
              "    </tr>\n",
              "    <tr>\n",
              "      <th>3</th>\n",
              "      <td>28</td>\n",
              "      <td>1</td>\n",
              "      <td>134</td>\n",
              "      <td>281</td>\n",
              "      <td>444</td>\n",
              "    </tr>\n",
              "    <tr>\n",
              "      <th>All</th>\n",
              "      <td>3988</td>\n",
              "      <td>1415</td>\n",
              "      <td>4982</td>\n",
              "      <td>2349</td>\n",
              "      <td>12734</td>\n",
              "    </tr>\n",
              "  </tbody>\n",
              "</table>\n",
              "</div>"
            ],
            "text/plain": [
              "predicted     0     1     2     3    All\n",
              "True                                    \n",
              "0          3258   481  1412   877   6028\n",
              "1            43   288   107     7    445\n",
              "2           659   645  3329  1184   5817\n",
              "3            28     1   134   281    444\n",
              "All        3988  1415  4982  2349  12734"
            ]
          },
          "metadata": {
            "tags": []
          }
        },
        {
          "output_type": "stream",
          "text": [
            "\n",
            "\n",
            " \n",
            "Test Loss Fold 3 ): 2.646559426562461\n",
            "Test Accuracy (Fold 3 ):56.20%\n",
            "acc: 56.20%\n",
            "\n",
            "\n",
            " Model Accuracy (Fold 3 ):\n"
          ],
          "name": "stdout"
        },
        {
          "output_type": "display_data",
          "data": {
            "image/png": "[encoded data removed]",
            "text/plain": [
              "<Figure size 432x288 with 1 Axes>"
            ]
          },
          "metadata": {
            "tags": [],
            "needs_background": "light"
          }
        },
        {
          "output_type": "stream",
          "text": [
            "=======================================================================================================\n",
            "Fold Number 4\n",
            "Class distribution for fold: 4\n"
          ],
          "name": "stdout"
        },
        {
          "output_type": "display_data",
          "data": {
            "image/png": "[encoded data removed]",
            "text/plain": [
              "<Figure size 432x288 with 1 Axes>"
            ]
          },
          "metadata": {
            "tags": [],
            "needs_background": "light"
          }
        },
        {
          "output_type": "stream",
          "text": [
            "Train on 3996 samples, validate on 1332 samples\n",
            "Epoch 1/50\n",
            "3996/3996 [==============================] - 33s 8ms/step - loss: 1.1683 - acc: 0.6046 - val_loss: 0.9123 - val_acc: 0.5931\n",
            "Epoch 2/50\n",
            "3996/3996 [==============================] - 32s 8ms/step - loss: 0.8484 - acc: 0.6414 - val_loss: 0.9012 - val_acc: 0.6156\n",
            "Epoch 3/50\n",
            "3996/3996 [==============================] - 32s 8ms/step - loss: 0.7352 - acc: 0.6814 - val_loss: 0.8866 - val_acc: 0.6141\n",
            "Epoch 4/50\n",
            "3996/3996 [==============================] - 31s 8ms/step - loss: 0.6761 - acc: 0.7047 - val_loss: 0.9145 - val_acc: 0.6471\n",
            "Epoch 5/50\n",
            "3996/3996 [==============================] - 32s 8ms/step - loss: 0.6270 - acc: 0.7170 - val_loss: 0.9245 - val_acc: 0.6396\n",
            "Epoch 6/50\n",
            "3996/3996 [==============================] - 31s 8ms/step - loss: 0.5765 - acc: 0.7377 - val_loss: 1.0234 - val_acc: 0.6254\n",
            "Epoch 7/50\n",
            "3996/3996 [==============================] - 32s 8ms/step - loss: 0.5452 - acc: 0.7530 - val_loss: 1.0730 - val_acc: 0.6254\n",
            "Epoch 8/50\n",
            "3996/3996 [==============================] - 33s 8ms/step - loss: 0.5077 - acc: 0.7760 - val_loss: 1.1154 - val_acc: 0.6171\n",
            "Epoch 9/50\n",
            "3996/3996 [==============================] - 32s 8ms/step - loss: 0.4795 - acc: 0.7848 - val_loss: 1.2094 - val_acc: 0.6186\n",
            "Epoch 10/50\n",
            "3996/3996 [==============================] - 32s 8ms/step - loss: 0.4578 - acc: 0.7950 - val_loss: 1.2096 - val_acc: 0.6209\n",
            "Epoch 11/50\n",
            "3996/3996 [==============================] - 31s 8ms/step - loss: 0.4372 - acc: 0.8006 - val_loss: 1.2265 - val_acc: 0.6141\n",
            "Epoch 12/50\n",
            "3996/3996 [==============================] - 33s 8ms/step - loss: 0.4161 - acc: 0.8148 - val_loss: 1.3621 - val_acc: 0.6059\n",
            "Epoch 13/50\n",
            "3996/3996 [==============================] - 31s 8ms/step - loss: 0.4017 - acc: 0.8208 - val_loss: 1.4298 - val_acc: 0.6036\n",
            "Epoch 14/50\n",
            "3996/3996 [==============================] - 29s 7ms/step - loss: 0.3690 - acc: 0.8321 - val_loss: 1.5393 - val_acc: 0.6089\n",
            "Epoch 15/50\n",
            "3996/3996 [==============================] - 31s 8ms/step - loss: 0.3524 - acc: 0.8398 - val_loss: 1.5790 - val_acc: 0.5998\n",
            "Epoch 16/50\n",
            "3996/3996 [==============================] - 35s 9ms/step - loss: 0.3522 - acc: 0.8491 - val_loss: 1.5837 - val_acc: 0.5908\n",
            "Epoch 17/50\n",
            "3996/3996 [==============================] - 34s 8ms/step - loss: 0.3423 - acc: 0.8496 - val_loss: 1.6171 - val_acc: 0.6096\n",
            "Epoch 18/50\n",
            "3996/3996 [==============================] - 32s 8ms/step - loss: 0.3449 - acc: 0.8456 - val_loss: 1.6444 - val_acc: 0.5826\n",
            "Epoch 19/50\n",
            "3996/3996 [==============================] - 33s 8ms/step - loss: 0.3072 - acc: 0.8704 - val_loss: 1.7730 - val_acc: 0.5766\n",
            "Epoch 20/50\n",
            "3996/3996 [==============================] - 37s 9ms/step - loss: 0.3151 - acc: 0.8576 - val_loss: 1.7151 - val_acc: 0.5811\n",
            "Epoch 21/50\n",
            "3996/3996 [==============================] - 36s 9ms/step - loss: 0.3078 - acc: 0.8536 - val_loss: 1.8473 - val_acc: 0.5916\n",
            "Epoch 22/50\n",
            "3996/3996 [==============================] - 37s 9ms/step - loss: 0.2814 - acc: 0.8731 - val_loss: 1.9508 - val_acc: 0.5833\n",
            "Epoch 23/50\n",
            "3996/3996 [==============================] - 37s 9ms/step - loss: 0.2869 - acc: 0.8769 - val_loss: 1.9040 - val_acc: 0.5736\n",
            "Epoch 24/50\n",
            "3996/3996 [==============================] - 36s 9ms/step - loss: 0.2652 - acc: 0.8796 - val_loss: 2.0306 - val_acc: 0.5758\n",
            "Epoch 25/50\n",
            "3996/3996 [==============================] - 33s 8ms/step - loss: 0.2558 - acc: 0.8841 - val_loss: 2.1671 - val_acc: 0.5616\n",
            "Epoch 26/50\n",
            "3996/3996 [==============================] - 33s 8ms/step - loss: 0.2442 - acc: 0.8891 - val_loss: 2.1420 - val_acc: 0.5833\n",
            "Epoch 27/50\n",
            "3996/3996 [==============================] - 34s 8ms/step - loss: 0.2268 - acc: 0.8971 - val_loss: 2.2128 - val_acc: 0.5833\n",
            "Epoch 28/50\n",
            "3996/3996 [==============================] - 36s 9ms/step - loss: 0.2378 - acc: 0.8949 - val_loss: 2.1851 - val_acc: 0.5766\n",
            "Epoch 29/50\n",
            "3996/3996 [==============================] - 33s 8ms/step - loss: 0.2180 - acc: 0.9057 - val_loss: 2.2503 - val_acc: 0.5781\n",
            "Epoch 30/50\n",
            "3996/3996 [==============================] - 34s 8ms/step - loss: 0.2157 - acc: 0.9024 - val_loss: 2.2858 - val_acc: 0.5773\n",
            "Epoch 31/50\n",
            "3996/3996 [==============================] - 29s 7ms/step - loss: 0.2262 - acc: 0.8996 - val_loss: 2.4560 - val_acc: 0.5668\n",
            "Epoch 32/50\n",
            "3996/3996 [==============================] - 27s 7ms/step - loss: 0.2355 - acc: 0.8964 - val_loss: 2.2950 - val_acc: 0.5653\n",
            "Epoch 33/50\n",
            "3996/3996 [==============================] - 29s 7ms/step - loss: 0.2104 - acc: 0.9099 - val_loss: 2.4090 - val_acc: 0.5781\n",
            "Epoch 34/50\n",
            "3996/3996 [==============================] - 30s 7ms/step - loss: 0.2192 - acc: 0.9037 - val_loss: 2.4842 - val_acc: 0.5728\n",
            "Epoch 35/50\n",
            "3996/3996 [==============================] - 27s 7ms/step - loss: 0.1945 - acc: 0.9132 - val_loss: 2.5944 - val_acc: 0.5631\n",
            "Epoch 36/50\n",
            "3996/3996 [==============================] - 26s 7ms/step - loss: 0.1964 - acc: 0.9162 - val_loss: 2.6001 - val_acc: 0.5833\n",
            "Epoch 37/50\n",
            "3996/3996 [==============================] - 27s 7ms/step - loss: 0.1857 - acc: 0.9149 - val_loss: 2.5994 - val_acc: 0.5818\n",
            "Epoch 38/50\n",
            "3996/3996 [==============================] - 29s 7ms/step - loss: 0.1810 - acc: 0.9149 - val_loss: 2.5912 - val_acc: 0.5773\n",
            "Epoch 39/50\n",
            "3996/3996 [==============================] - 28s 7ms/step - loss: 0.1752 - acc: 0.9234 - val_loss: 2.8000 - val_acc: 0.5661\n",
            "Epoch 40/50\n",
            "3996/3996 [==============================] - 33s 8ms/step - loss: 0.1894 - acc: 0.9154 - val_loss: 2.5974 - val_acc: 0.5826\n",
            "Epoch 41/50\n",
            "3996/3996 [==============================] - 33s 8ms/step - loss: 0.1832 - acc: 0.9162 - val_loss: 2.7106 - val_acc: 0.5698\n",
            "Epoch 42/50\n",
            "3996/3996 [==============================] - 33s 8ms/step - loss: 0.1768 - acc: 0.9189 - val_loss: 2.8353 - val_acc: 0.5856\n",
            "Epoch 43/50\n",
            "3996/3996 [==============================] - 35s 9ms/step - loss: 0.1752 - acc: 0.9229 - val_loss: 2.8711 - val_acc: 0.5803\n",
            "Epoch 44/50\n",
            "3996/3996 [==============================] - 32s 8ms/step - loss: 0.1962 - acc: 0.9167 - val_loss: 2.6602 - val_acc: 0.5736\n",
            "Epoch 45/50\n",
            "3996/3996 [==============================] - 35s 9ms/step - loss: 0.1760 - acc: 0.9234 - val_loss: 2.7680 - val_acc: 0.5758\n",
            "Epoch 46/50\n",
            "3996/3996 [==============================] - 35s 9ms/step - loss: 0.1892 - acc: 0.9232 - val_loss: 2.7375 - val_acc: 0.5811\n",
            "Epoch 47/50\n",
            "3996/3996 [==============================] - 33s 8ms/step - loss: 0.1778 - acc: 0.9164 - val_loss: 2.8253 - val_acc: 0.5841\n",
            "Epoch 48/50\n",
            "3996/3996 [==============================] - 32s 8ms/step - loss: 0.1984 - acc: 0.9162 - val_loss: 2.6766 - val_acc: 0.5796\n",
            "Epoch 49/50\n",
            "3996/3996 [==============================] - 29s 7ms/step - loss: 0.1877 - acc: 0.9172 - val_loss: 2.7585 - val_acc: 0.5886\n",
            "Epoch 50/50\n",
            "3996/3996 [==============================] - 31s 8ms/step - loss: 0.1977 - acc: 0.9177 - val_loss: 2.6074 - val_acc: 0.5766\n",
            "Test data\n",
            "              precision    recall  f1-score   support\n",
            "\n",
            "           0       0.76      0.62      0.68      6027\n",
            "           1       0.16      0.76      0.26       445\n",
            "           2       0.69      0.38      0.49      5817\n",
            "           3       0.13      0.74      0.22       443\n",
            "\n",
            "   micro avg       0.52      0.52      0.52     12732\n",
            "   macro avg       0.43      0.62      0.41     12732\n",
            "weighted avg       0.69      0.52      0.56     12732\n",
            "\n",
            "Confusion Matrix : 4\n"
          ],
          "name": "stdout"
        },
        {
          "output_type": "display_data",
          "data": {
            "text/html": [
              "<div>\n",
              "<style scoped>\n",
              "    .dataframe tbody tr th:only-of-type {\n",
              "        vertical-align: middle;\n",
              "    }\n",
              "\n",
              "    .dataframe tbody tr th {\n",
              "        vertical-align: top;\n",
              "    }\n",
              "\n",
              "    .dataframe thead th {\n",
              "        text-align: right;\n",
              "    }\n",
              "</style>\n",
              "<table border=\"1\" class=\"dataframe\">\n",
              "  <thead>\n",
              "    <tr style=\"text-align: right;\">\n",
              "      <th>predicted</th>\n",
              "      <th>0</th>\n",
              "      <th>1</th>\n",
              "      <th>2</th>\n",
              "      <th>3</th>\n",
              "      <th>All</th>\n",
              "    </tr>\n",
              "    <tr>\n",
              "      <th>True</th>\n",
              "      <th></th>\n",
              "      <th></th>\n",
              "      <th></th>\n",
              "      <th></th>\n",
              "      <th></th>\n",
              "    </tr>\n",
              "  </thead>\n",
              "  <tbody>\n",
              "    <tr>\n",
              "      <th>0</th>\n",
              "      <td>3715</td>\n",
              "      <td>668</td>\n",
              "      <td>854</td>\n",
              "      <td>790</td>\n",
              "      <td>6027</td>\n",
              "    </tr>\n",
              "    <tr>\n",
              "      <th>1</th>\n",
              "      <td>43</td>\n",
              "      <td>336</td>\n",
              "      <td>64</td>\n",
              "      <td>2</td>\n",
              "      <td>445</td>\n",
              "    </tr>\n",
              "    <tr>\n",
              "      <th>2</th>\n",
              "      <td>1076</td>\n",
              "      <td>1138</td>\n",
              "      <td>2186</td>\n",
              "      <td>1417</td>\n",
              "      <td>5817</td>\n",
              "    </tr>\n",
              "    <tr>\n",
              "      <th>3</th>\n",
              "      <td>47</td>\n",
              "      <td>3</td>\n",
              "      <td>65</td>\n",
              "      <td>328</td>\n",
              "      <td>443</td>\n",
              "    </tr>\n",
              "    <tr>\n",
              "      <th>All</th>\n",
              "      <td>4881</td>\n",
              "      <td>2145</td>\n",
              "      <td>3169</td>\n",
              "      <td>2537</td>\n",
              "      <td>12732</td>\n",
              "    </tr>\n",
              "  </tbody>\n",
              "</table>\n",
              "</div>"
            ],
            "text/plain": [
              "predicted     0     1     2     3    All\n",
              "True                                    \n",
              "0          3715   668   854   790   6027\n",
              "1            43   336    64     2    445\n",
              "2          1076  1138  2186  1417   5817\n",
              "3            47     3    65   328    443\n",
              "All        4881  2145  3169  2537  12732"
            ]
          },
          "metadata": {
            "tags": []
          }
        },
        {
          "output_type": "stream",
          "text": [
            "\n",
            "\n",
            " \n",
            "Test Loss Fold 4 ): 2.983668153929403\n",
            "Test Accuracy (Fold 4 ):51.56%\n",
            "acc: 51.56%\n",
            "\n",
            "\n",
            " Model Accuracy (Fold 4 ):\n"
          ],
          "name": "stdout"
        },
        {
          "output_type": "display_data",
          "data": {
            "image/png": "[encoded data removed]",
            "text/plain": [
              "<Figure size 432x288 with 1 Axes>"
            ]
          },
          "metadata": {
            "tags": [],
            "needs_background": "light"
          }
        },
        {
          "output_type": "stream",
          "text": [
            "\n",
            "\n",
            " Model accuracy (over all folds): 52.67% (+/- 2.18%)\n"
          ],
          "name": "stdout"
        }
      ]
    },
    {
      "cell_type": "code",
      "metadata": {
        "id": "DjiC9P87SSQi",
        "colab_type": "code",
        "colab": {}
      },
      "source": [
        "filepath = \"Supervised.mod\"\n",
        "model.save(filepath)"
      ],
      "execution_count": 0,
      "outputs": []
    },
    {
      "cell_type": "code",
      "metadata": {
        "id": "eT4exBTxSSQl",
        "colab_type": "code",
        "colab": {}
      },
      "source": [
        ""
      ],
      "execution_count": 0,
      "outputs": []
    }
  ]
}